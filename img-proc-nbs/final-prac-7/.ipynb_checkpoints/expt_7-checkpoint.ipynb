{
 "cells": [
  {
   "cell_type": "code",
   "execution_count": 105,
   "metadata": {},
   "outputs": [],
   "source": [
    "import matplotlib.pyplot as plt\n",
    "import numpy as np\n",
    "import matplotlib.image as mpimg\n",
    "\n",
    "IMAGE_PATH = '../images/expt_7/hpf.bmp'\n",
    "\n",
    "def readImage(imagePath, imageName):\n",
    "    # read the image\n",
    "    image_original = mpimg.imread(imagePath)\n",
    "    image = image_original.copy() # else it is read only\n",
    "\n",
    "    if len(image.shape) == 3:\n",
    "        # is a color image\n",
    "        # converting to grayscale: avg method\n",
    "        R = image[:,:, 0]\n",
    "        G = image[:,:, 1]\n",
    "        B = image[:,:, 2]\n",
    "        grayscale = (R/3 + G/3 + B/3)\n",
    "    else:\n",
    "        # is a grayscale image\n",
    "        grayscale = np.array(image_original.copy())\n",
    "\n",
    "    plt.imshow(grayscale, cmap=plt.get_cmap('gray'),vmin=0, vmax=255)\n",
    "    plt.title('Original ' + imageName)\n",
    "    \n",
    "    return grayscale\n",
    "\n",
    "\n",
    "def filterImage(grayImage, imageFilter, filterName):\n",
    "\n",
    "    # Filtering\n",
    "\n",
    "    # take input from user\n",
    "    # n -> filter size\n",
    "    # filt -> filter kernel\n",
    "\n",
    "    filt = imageFilter\n",
    "    n = filt.shape[0]\n",
    "\n",
    "\n",
    "    # constructing deviation from centre matrix\n",
    "    # n -> filter size\n",
    "    deviations = []\n",
    "    for i in range(n):\n",
    "        dev_row = []\n",
    "        for j in range(n):\n",
    "            elem = ( j - n//2, i - n//2)\n",
    "            dev_row.append(elem)\n",
    "\n",
    "        deviations.append(dev_row)\n",
    "\n",
    "\n",
    "    # initialize result to store image\n",
    "    result = np.zeros(grayImage.shape)\n",
    "\n",
    "\n",
    "\n",
    "    # filtering logic using deviation mask\n",
    "    for i in range(grayImage.shape[0]):\n",
    "        for j in range(grayImage.shape[1]):\n",
    "            filter_prod = 0\n",
    "\n",
    "            for k in range(n):\n",
    "                for m in range(n):\n",
    "\n",
    "                    x_shift = deviations[k][m][0]\n",
    "                    y_shift = deviations[k][m][1]\n",
    "\n",
    "                    x_index = i + y_shift  \n",
    "                    y_index = j + x_shift\n",
    "\n",
    "                    if (x_index < 0 or x_index >= grayImage.shape[0] or y_index < 0 or y_index >= grayImage.shape[1]):\n",
    "                        continue\n",
    "\n",
    "                    t = grayImage[i + y_shift, j + x_shift]\n",
    "                    filter_prod = filter_prod + ( filt[k][m] * t )\n",
    "\n",
    "            result[i, j] =  filter_prod\n",
    "\n",
    "    plt.imshow(result, cmap=plt.get_cmap('gray'),vmin=0, vmax=255)\n",
    "    plt.title('Filtered Image Using ' + filterName)\n",
    "\n",
    "            "
   ]
  },
  {
   "cell_type": "code",
   "execution_count": 106,
   "metadata": {},
   "outputs": [
    {
     "data": {
      "image/png": "[encoded data removed]",
      "text/plain": [
       "<Figure size 432x288 with 1 Axes>"
      ]
     },
     "metadata": {
      "needs_background": "light"
     },
     "output_type": "display_data"
    }
   ],
   "source": [
    "img1 = readImage(IMAGE_PATH, 'Image 1')"
   ]
  },
  {
   "cell_type": "code",
   "execution_count": 107,
   "metadata": {},
   "outputs": [],
   "source": [
    "lpf = (1/9) * np.array([\n",
    "    [1, 1, 1],\n",
    "    [1, 1, 1],\n",
    "    [1, 1, 1]   \n",
    "])"
   ]
  },
  {
   "cell_type": "code",
   "execution_count": 108,
   "metadata": {},
   "outputs": [
    {
     "data": {
      "image/png": "[encoded data removed]",
      "text/plain": [
       "<Figure size 432x288 with 1 Axes>"
      ]
     },
     "metadata": {
      "needs_background": "light"
     },
     "output_type": "display_data"
    }
   ],
   "source": [
    "b = filterImage(img1, lpf, 'Low Pass Filter')"
   ]
  },
  {
   "cell_type": "code",
   "execution_count": 109,
   "metadata": {},
   "outputs": [],
   "source": [
    "hpf = (1/9) * np.array([\n",
    "    [-1, -1, -1],\n",
    "    [-1, 8, -1],\n",
    "    [-1, -1, -1]   \n",
    "])"
   ]
  },
  {
   "cell_type": "code",
   "execution_count": 110,
   "metadata": {},
   "outputs": [
    {
     "data": {
      "image/png": "[encoded data removed]",
      "text/plain": [
       "<Figure size 432x288 with 1 Axes>"
      ]
     },
     "metadata": {
      "needs_background": "light"
     },
     "output_type": "display_data"
    }
   ],
   "source": [
    "a = filterImage(img1, hpf, 'High Pass Filter')"
   ]
  }
 ],
 "metadata": {
  "kernelspec": {
   "display_name": "Python 3",
   "language": "python",
   "name": "python3"
  },
  "language_info": {
   "codemirror_mode": {
    "name": "ipython",
    "version": 3
   },
   "file_extension": ".py",
   "mimetype": "text/x-python",
   "name": "python",
   "nbconvert_exporter": "python",
   "pygments_lexer": "ipython3",
   "version": "3.6.7"
  }
 },
 "nbformat": 4,
 "nbformat_minor": 2
}
