{
 "cells": [
  {
   "cell_type": "code",
   "execution_count": null,
   "metadata": {},
   "outputs": [],
   "source": [
    "import matplotlib.pyplot as plt\n",
    "import numpy as np\n",
    "import matplotlib.image as mpimg\n",
    "\n",
    "LIGHT_PATH = '../images/expt_5/light.tif'\n",
    "DARK_PATH = '../images/expt_5/dark.tif'\n",
    "HIGH_CONTRAST_PATH = '../images/expt_5/high_contrast.tif'\n",
    "LOW_CONTRAST_PATH = '../images/expt_5/low_contrast.tif'\n",
    "\n",
    "\n",
    "def readImage(imagePath):\n",
    "    # read the image\n",
    "    image_original = mpimg.imread(imagePath)\n",
    "    image = image_original.copy() # else it is read only\n",
    "\n",
    "    if len(image.shape) == 3:\n",
    "        # is a color image\n",
    "        # converting to grayscale: avg method\n",
    "        R = image[:,:, 0]\n",
    "        G = image[:,:, 1]\n",
    "        B = image[:,:, 2]\n",
    "        grayscale = (R/3 + G/3 + B/3)\n",
    "    else:\n",
    "        # is a grayscale image\n",
    "        grayscale = np.array(image_original.copy())\n",
    "\n",
    "    plt.imshow(grayscale, cmap=plt.get_cmap('gray'),vmin=0, vmax=255)\n",
    "    plt.title('original gray image')\n",
    "    \n",
    "    return grayscale\n",
    "\n",
    "\n",
    "def plotHistogram(grayImage, imageName):\n",
    "    # get frquencies of each gray level\n",
    "    freq = [0 for i in range(256)]\n",
    "    \n",
    "    for i in range(grayImage.shape[0]):\n",
    "        for j in range(grayImage.shape[1]):\n",
    "            index = int(grayImage[i, j])\n",
    "            freq[index] = freq[index] + 1\n",
    "\n",
    "    # plot\n",
    "    plt.plot([i for i in range(256)], freq, '.')\n",
    "    plt.vlines(x=[i for i in range(256)], ymin=0, ymax=freq, color='skyblue')\n",
    "    plt.title('Histogram for ' + imageName)"
   ]
  }
 ],
 "metadata": {
  "kernelspec": {
   "display_name": "Python 3",
   "language": "python",
   "name": "python3"
  },
  "language_info": {
   "codemirror_mode": {
    "name": "ipython",
    "version": 3
   },
   "file_extension": ".py",
   "mimetype": "text/x-python",
   "name": "python",
   "nbconvert_exporter": "python",
   "pygments_lexer": "ipython3",
   "version": "3.6.7"
  }
 },
 "nbformat": 4,
 "nbformat_minor": 2
}
