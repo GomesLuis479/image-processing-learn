{
 "cells": [
  {
   "cell_type": "code",
   "execution_count": 212,
   "metadata": {},
   "outputs": [],
   "source": [
    "import matplotlib.pyplot as plt\n",
    "import numpy as np\n",
    "import matplotlib.image as mpimg\n",
    "import math\n",
    "import cmath\n",
    "\n",
    "DFT_PATH = '../images/e8/new50.tiff'\n",
    "\n",
    "def readImage(imagePath, imageName):\n",
    "    # read the image\n",
    "    image_original = mpimg.imread(imagePath)\n",
    "    image = image_original.copy() # else it is read only\n",
    "\n",
    "    if len(image.shape) == 3:\n",
    "        # is a color image\n",
    "        # converting to grayscale: avg method\n",
    "        R = image[:,:, 0]\n",
    "        G = image[:,:, 1]\n",
    "        B = image[:,:, 2]\n",
    "        grayscale = (R/3 + G/3 + B/3)\n",
    "    else:\n",
    "        # is a grayscale image\n",
    "        grayscale = np.array(image_original.copy())\n",
    "\n",
    "    plt.imshow(grayscale, cmap=plt.get_cmap('gray'),vmin=0, vmax=255)\n",
    "    plt.title('Original ' + imageName)\n",
    "    \n",
    "    return grayscale\n",
    "\n",
    "\n",
    "\n",
    "def convertToMag(dftMatrix):\n",
    "    result = np.zeros(dftMatrix.shape)\n",
    "    \n",
    "    for x in range(dftMatrix.shape[0]):\n",
    "        for y in range(dftMatrix.shape[1]):\n",
    "            result[x, y] = abs(dftMatrix[x, y])\n",
    "            \n",
    "    return result\n",
    "\n",
    "def preProcessImage(img):\n",
    "    x_dims = img.shape[0]\n",
    "    y_dims = img.shape[1]\n",
    "    \n",
    "    result = np.zeros((2*x_dims, 2*y_dims))\n",
    "    result[:x_dims,:y_dims] = img\n",
    "        \n",
    "    plt.imshow(result, cmap=plt.get_cmap('gray'),vmin=0, vmax=255)\n",
    "    plt.title('Processed Image ')\n",
    "        \n",
    "    return result\n",
    "\n",
    "def generateDFT(grayImage):\n",
    "\n",
    "    result = []\n",
    "    \n",
    "    x_dims = grayImage.shape[0]\n",
    "    y_dims = grayImage.shape[1]\n",
    "    print('x_dims (u) =', x_dims, 'y_dims (v) =', y_dims)\n",
    "\n",
    "    for u in range(x_dims):\n",
    "        tempList = []\n",
    "        for v in range(y_dims):\n",
    "            tempSum = complex(0, 0)\n",
    "            \n",
    "            for x in range(x_dims):\n",
    "                for y in range(y_dims):\n",
    "                    theta = -2*math.pi* ( (u*x/x_dims)  + (v*y/y_dims) )\n",
    "                    tempSum = tempSum + grayImage[x, y]*cmath.exp(complex(0, theta))\n",
    "                    \n",
    "            tempList.append(tempSum)\n",
    "        \n",
    "        #tempList = (1/complex(0, x_dims)) * tempList\n",
    "        #print(tempList)\n",
    "        result.append(tempList)\n",
    "        print('Finished u =', u, 'v =', v)\n",
    "\n",
    "    result = np.array(result)\n",
    "    \n",
    "\n",
    "    plt.imshow(convertToMag(result), cmap=plt.get_cmap('gray'))\n",
    "    plt.title('DFT magnitude plot')\n",
    "    \n",
    "    return result\n",
    "\n",
    "\n",
    "def generateIDFT(dft):\n",
    "    result = []\n",
    "    \n",
    "    x_dims = dft.shape[0]\n",
    "    y_dims = dft.shape[1]\n",
    "    print('x_dims (u) =', x_dims, 'y_dims (v) =', y_dims)\n",
    "\n",
    "    for u in range(x_dims):\n",
    "        tempList = []\n",
    "        for v in range(y_dims):\n",
    "            tempSum = complex(0, 0)\n",
    "            \n",
    "            for x in range(x_dims):\n",
    "                for y in range(y_dims):\n",
    "                    theta = 2*math.pi* ( (u*x/x_dims)  + (v*y/y_dims) )\n",
    "                    tempSum = tempSum + dft[x, y]*cmath.exp(complex(0, theta))\n",
    "                    \n",
    "            tempList.append(tempSum)\n",
    "        \n",
    "        #tempList = (1/complex(0, x_dims)) * tempList\n",
    "        #print(tempList)\n",
    "        result.append(tempList)\n",
    "        print('Finished u =', u, 'v =', v)\n",
    "\n",
    "    result = (1/(x_dims*y_dims))*np.array(result)\n",
    "    \n",
    "\n",
    "    plt.imshow(convertToMag(result), cmap=plt.get_cmap('gray'))\n",
    "    plt.title('IDFT plot')\n",
    "    \n",
    "    return result\n",
    "\n",
    "\n",
    "# log s = c * log(1+r)\n",
    "def logTransform(grayImage ,c):\n",
    "    log_image = c * np.log10(grayImage + 1.0000000000001) # needed to avoid log(1) = 0 error\n",
    "    plt.imshow(log_image, cmap='gray')\n",
    "    plt.title('log transform with c = ' + str(c))\n",
    "    \n",
    "    \n",
    "def centerTransform(img):\n",
    "    result = np.zeros(img.shape)\n",
    "    \n",
    "    for x in range(img.shape[0]):\n",
    "        for y in range(img.shape[1]):\n",
    "            result[x, y] = ( (-1)**(x+y) ) * img[x,y]\n",
    "\n",
    "    return result\n",
    "\n"
   ]
  },
  {
   "cell_type": "code",
   "execution_count": 213,
   "metadata": {},
   "outputs": [
    {
     "data": {
      "image/png": "[encoded data removed]",
      "text/plain": [
       "<Figure size 432x288 with 1 Axes>"
      ]
     },
     "metadata": {
      "needs_background": "light"
     },
     "output_type": "display_data"
    }
   ],
   "source": [
    "img1 = readImage(DFT_PATH, \"Image\")"
   ]
  },
  {
   "cell_type": "code",
   "execution_count": 208,
   "metadata": {
    "scrolled": false
   },
   "outputs": [
    {
     "name": "stdout",
     "output_type": "stream",
     "text": [
      "x_dims (u) = 50 y_dims (v) = 50\n",
      "Finished u = 0 v = 49\n",
      "Finished u = 1 v = 49\n",
      "Finished u = 2 v = 49\n",
      "Finished u = 3 v = 49\n",
      "Finished u = 4 v = 49\n",
      "Finished u = 5 v = 49\n",
      "Finished u = 6 v = 49\n",
      "Finished u = 7 v = 49\n",
      "Finished u = 8 v = 49\n",
      "Finished u = 9 v = 49\n",
      "Finished u = 10 v = 49\n",
      "Finished u = 11 v = 49\n",
      "Finished u = 12 v = 49\n",
      "Finished u = 13 v = 49\n",
      "Finished u = 14 v = 49\n",
      "Finished u = 15 v = 49\n",
      "Finished u = 16 v = 49\n",
      "Finished u = 17 v = 49\n",
      "Finished u = 18 v = 49\n",
      "Finished u = 19 v = 49\n",
      "Finished u = 20 v = 49\n",
      "Finished u = 21 v = 49\n",
      "Finished u = 22 v = 49\n",
      "Finished u = 23 v = 49\n",
      "Finished u = 24 v = 49\n",
      "Finished u = 25 v = 49\n",
      "Finished u = 26 v = 49\n",
      "Finished u = 27 v = 49\n",
      "Finished u = 28 v = 49\n",
      "Finished u = 29 v = 49\n",
      "Finished u = 30 v = 49\n",
      "Finished u = 31 v = 49\n",
      "Finished u = 32 v = 49\n",
      "Finished u = 33 v = 49\n",
      "Finished u = 34 v = 49\n",
      "Finished u = 35 v = 49\n",
      "Finished u = 36 v = 49\n",
      "Finished u = 37 v = 49\n",
      "Finished u = 38 v = 49\n",
      "Finished u = 39 v = 49\n",
      "Finished u = 40 v = 49\n",
      "Finished u = 41 v = 49\n",
      "Finished u = 42 v = 49\n",
      "Finished u = 43 v = 49\n",
      "Finished u = 44 v = 49\n",
      "Finished u = 45 v = 49\n",
      "Finished u = 46 v = 49\n",
      "Finished u = 47 v = 49\n",
      "Finished u = 48 v = 49\n",
      "Finished u = 49 v = 49\n"
     ]
    },
    {
     "data": {
      "image/png": "[encoded data removed]",
      "text/plain": [
       "<Figure size 432x288 with 1 Axes>"
      ]
     },
     "metadata": {
      "needs_background": "light"
     },
     "output_type": "display_data"
    }
   ],
   "source": [
    "dft = generateDFT(img1)"
   ]
  },
  {
   "cell_type": "code",
   "execution_count": 209,
   "metadata": {},
   "outputs": [
    {
     "data": {
      "image/png": "[encoded data removed]",
      "text/plain": [
       "<Figure size 432x288 with 1 Axes>"
      ]
     },
     "metadata": {
      "needs_background": "light"
     },
     "output_type": "display_data"
    }
   ],
   "source": [
    "# applying log to highlight hidden features\n",
    "logTransform(convertToMag(dft), 1)"
   ]
  },
  {
   "cell_type": "code",
   "execution_count": 214,
   "metadata": {},
   "outputs": [
    {
     "name": "stdout",
     "output_type": "stream",
     "text": [
      "x_dims (u) = 50 y_dims (v) = 50\n",
      "Finished u = 0 v = 49\n",
      "Finished u = 1 v = 49\n",
      "Finished u = 2 v = 49\n",
      "Finished u = 3 v = 49\n",
      "Finished u = 4 v = 49\n",
      "Finished u = 5 v = 49\n",
      "Finished u = 6 v = 49\n",
      "Finished u = 7 v = 49\n",
      "Finished u = 8 v = 49\n",
      "Finished u = 9 v = 49\n",
      "Finished u = 10 v = 49\n",
      "Finished u = 11 v = 49\n",
      "Finished u = 12 v = 49\n",
      "Finished u = 13 v = 49\n",
      "Finished u = 14 v = 49\n",
      "Finished u = 15 v = 49\n",
      "Finished u = 16 v = 49\n",
      "Finished u = 17 v = 49\n",
      "Finished u = 18 v = 49\n",
      "Finished u = 19 v = 49\n",
      "Finished u = 20 v = 49\n",
      "Finished u = 21 v = 49\n",
      "Finished u = 22 v = 49\n",
      "Finished u = 23 v = 49\n",
      "Finished u = 24 v = 49\n",
      "Finished u = 25 v = 49\n",
      "Finished u = 26 v = 49\n",
      "Finished u = 27 v = 49\n",
      "Finished u = 28 v = 49\n",
      "Finished u = 29 v = 49\n",
      "Finished u = 30 v = 49\n",
      "Finished u = 31 v = 49\n",
      "Finished u = 32 v = 49\n",
      "Finished u = 33 v = 49\n",
      "Finished u = 34 v = 49\n",
      "Finished u = 35 v = 49\n",
      "Finished u = 36 v = 49\n",
      "Finished u = 37 v = 49\n",
      "Finished u = 38 v = 49\n",
      "Finished u = 39 v = 49\n",
      "Finished u = 40 v = 49\n",
      "Finished u = 41 v = 49\n",
      "Finished u = 42 v = 49\n",
      "Finished u = 43 v = 49\n",
      "Finished u = 44 v = 49\n",
      "Finished u = 45 v = 49\n",
      "Finished u = 46 v = 49\n",
      "Finished u = 47 v = 49\n",
      "Finished u = 48 v = 49\n",
      "Finished u = 49 v = 49\n"
     ]
    },
    {
     "data": {
      "image/png": "[encoded data removed]",
      "text/plain": [
       "<Figure size 432x288 with 1 Axes>"
      ]
     },
     "metadata": {
      "needs_background": "light"
     },
     "output_type": "display_data"
    }
   ],
   "source": [
    "idft = generateIDFT(dft)"
   ]
  },
  {
   "cell_type": "code",
   "execution_count": null,
   "metadata": {},
   "outputs": [],
   "source": []
  }
 ],
 "metadata": {
  "kernelspec": {
   "display_name": "Python 3",
   "language": "python",
   "name": "python3"
  },
  "language_info": {
   "codemirror_mode": {
    "name": "ipython",
    "version": 3
   },
   "file_extension": ".py",
   "mimetype": "text/x-python",
   "name": "python",
   "nbconvert_exporter": "python",
   "pygments_lexer": "ipython3",
   "version": "3.6.7"
  }
 },
 "nbformat": 4,
 "nbformat_minor": 2
}
