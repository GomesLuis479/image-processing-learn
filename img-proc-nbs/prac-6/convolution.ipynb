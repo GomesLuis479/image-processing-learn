{
 "cells": [
  {
   "cell_type": "code",
   "execution_count": 14,
   "metadata": {},
   "outputs": [],
   "source": [
    "import matplotlib.pyplot as plt\n",
    "import numpy as np\n",
    "import matplotlib.image as mpimg\n",
    "import math"
   ]
  },
  {
   "cell_type": "code",
   "execution_count": 2,
   "metadata": {},
   "outputs": [
    {
     "data": {
      "text/plain": [
       "Text(0.5, 1.0, 'Original RGB imamge')"
      ]
     },
     "execution_count": 2,
     "metadata": {},
     "output_type": "execute_result"
    },
    {
     "data": {
      "image/png": "[encoded data removed]",
      "text/plain": [
       "<Figure size 432x288 with 1 Axes>"
      ]
     },
     "metadata": {
      "needs_background": "light"
     },
     "output_type": "display_data"
    }
   ],
   "source": [
    "# read the image\n",
    "\n",
    "image_original = mpimg.imread('../images/hpf.bmp')\n",
    "image = image_original.copy() # else it is read only\n",
    "\n",
    "# display original\n",
    "\n",
    "plt.imshow(image_original, cmap='gray')\n",
    "plt.title('Original RGB imamge')"
   ]
  },
  {
   "cell_type": "code",
   "execution_count": 3,
   "metadata": {},
   "outputs": [
    {
     "data": {
      "text/plain": [
       "Text(0.5, 1.0, 'grayscale image')"
      ]
     },
     "execution_count": 3,
     "metadata": {},
     "output_type": "execute_result"
    },
    {
     "data": {
      "image/png": "[encoded data removed]",
      "text/plain": [
       "<Figure size 432x288 with 1 Axes>"
      ]
     },
     "metadata": {
      "needs_background": "light"
     },
     "output_type": "display_data"
    }
   ],
   "source": [
    "# convert to gray\n",
    "\n",
    "# converting to grayscale: avg method\n",
    "\n",
    "R = image[:,:, 0]\n",
    "G = image[:,:, 1]\n",
    "B = image[:,:, 2]\n",
    "\n",
    "grayscale = (R/3 + G/3 + B/3)\n",
    "\n",
    "# %matplotlib qt\n",
    "plt.imshow(grayscale, cmap='gray')\n",
    "plt.title('grayscale image')"
   ]
  },
  {
   "cell_type": "code",
   "execution_count": 4,
   "metadata": {},
   "outputs": [],
   "source": [
    "def filterAndDisplay(grayscale):\n",
    "\n",
    "    # Filtering\n",
    "\n",
    "    # take input from user\n",
    "    # n -> filter size\n",
    "    # filt -> filter kernel\n",
    "    n = int(input('enter the filter size (must be odd): '))\n",
    "    filt = np.zeros((n, n))\n",
    "\n",
    "    print('Enter the values of the filter: ')\n",
    "    for i in range(n):\n",
    "        for j in range(n):\n",
    "            temp = float(input('({0}, {1}) : '.format(i, j)))\n",
    "            filt[i, j] = temp\n",
    "\n",
    "\n",
    "\n",
    "    # constructing deviation from centre matrix\n",
    "    # n -> filter size\n",
    "    deviations = []\n",
    "    for i in range(n):\n",
    "        dev_row = []\n",
    "        for j in range(n):\n",
    "            elem = ( j - n//2, i - n//2)\n",
    "            dev_row.append(elem)\n",
    "\n",
    "        deviations.append(dev_row)\n",
    "\n",
    "\n",
    "    # initialize result to store image\n",
    "    result = np.zeros(grayscale.shape)\n",
    "\n",
    "\n",
    "\n",
    "    # filtering logic using deviation mask\n",
    "    for i in range(grayscale.shape[0]):\n",
    "        for j in range(grayscale.shape[1]):\n",
    "            filter_prod = 0\n",
    "\n",
    "            for k in range(n):\n",
    "                for m in range(n):\n",
    "\n",
    "                    x_shift = deviations[k][m][0]\n",
    "                    y_shift = deviations[k][m][1]\n",
    "\n",
    "                    x_index = i + y_shift  \n",
    "                    y_index = j + x_shift\n",
    "\n",
    "                    if (x_index < 0 or x_index >= grayscale.shape[0] or y_index < 0 or y_index >= grayscale.shape[1]):\n",
    "                        continue\n",
    "\n",
    "                    t = grayscale[i + y_shift, j + x_shift]\n",
    "                    filter_prod = filter_prod + ( filt[k][m] * t )\n",
    "\n",
    "\n",
    "            if filter_prod < 0:\n",
    "                result[i, j] = 0\n",
    "            elif filter_prod > 255:\n",
    "                result[i, j] = 255\n",
    "            else:\n",
    "                result[i, j] =  round(filter_prod)\n",
    "\n",
    "    plt.imshow(result, cmap='gray')\n",
    "    plt.title('filtered image')\n"
   ]
  },
  {
   "cell_type": "code",
   "execution_count": 5,
   "metadata": {},
   "outputs": [
    {
     "data": {
      "text/plain": [
       "Text(0.5, 1.0, 'grayscale image')"
      ]
     },
     "execution_count": 5,
     "metadata": {},
     "output_type": "execute_result"
    },
    {
     "data": {
      "image/png": "[encoded data removed]",
      "text/plain": [
       "<Figure size 432x288 with 1 Axes>"
      ]
     },
     "metadata": {
      "needs_background": "light"
     },
     "output_type": "display_data"
    }
   ],
   "source": [
    "plt.imshow(grayscale, cmap='gray')\n",
    "plt.title('grayscale image')"
   ]
  },
  {
   "cell_type": "code",
   "execution_count": 102,
   "metadata": {},
   "outputs": [
    {
     "name": "stdout",
     "output_type": "stream",
     "text": [
      "enter the filter size (must be odd): 3\n",
      "Enter the values of the filter: \n",
      "(0, 0) : .111111111111111111111111111\n",
      "(0, 1) : .111111111111111111111111111\n",
      "(0, 2) : .111111111111111111111111111\n",
      "(1, 0) : .111111111111111111111111111\n",
      "(1, 1) : .111111111111111111111111111\n",
      "(1, 2) : .111111111111111111111111111\n",
      "(2, 0) : .111111111111111111111111111\n",
      "(2, 1) : .111111111111111111111111111\n",
      "(2, 2) : .111111111111111111111111111\n"
     ]
    },
    {
     "data": {
      "image/png": "[encoded data removed]",
      "text/plain": [
       "<Figure size 432x288 with 1 Axes>"
      ]
     },
     "metadata": {
      "needs_background": "light"
     },
     "output_type": "display_data"
    }
   ],
   "source": [
    "filterAndDisplay(grayscale) ## low passs"
   ]
  },
  {
   "cell_type": "code",
   "execution_count": 6,
   "metadata": {},
   "outputs": [
    {
     "data": {
      "text/plain": [
       "Text(0.5, 1.0, 'grayscale image')"
      ]
     },
     "execution_count": 6,
     "metadata": {},
     "output_type": "execute_result"
    },
    {
     "data": {
      "image/png": "[encoded data removed]",
      "text/plain": [
       "<Figure size 432x288 with 1 Axes>"
      ]
     },
     "metadata": {
      "needs_background": "light"
     },
     "output_type": "display_data"
    }
   ],
   "source": [
    "plt.imshow(grayscale, cmap='gray')\n",
    "plt.title('grayscale image')"
   ]
  },
  {
   "cell_type": "code",
   "execution_count": 7,
   "metadata": {},
   "outputs": [
    {
     "name": "stdout",
     "output_type": "stream",
     "text": [
      "enter the filter size (must be odd): 3\n",
      "Enter the values of the filter: \n",
      "(0, 0) : -0.11111111111111\n",
      "(0, 1) : -0.11111111111111\n",
      "(0, 2) : -0.11111111111111\n",
      "(1, 0) : -0.11111111111111\n",
      "(1, 1) : .888888888888888\n",
      "(1, 2) : -0.11111111111111\n",
      "(2, 0) : -0.11111111111111\n",
      "(2, 1) : -0.11111111111111\n",
      "(2, 2) : -0.11111111111111\n"
     ]
    },
    {
     "data": {
      "image/png": "[encoded data removed]",
      "text/plain": [
       "<Figure size 432x288 with 1 Axes>"
      ]
     },
     "metadata": {
      "needs_background": "light"
     },
     "output_type": "display_data"
    }
   ],
   "source": [
    "filterAndDisplay(grayscale) ## high pass"
   ]
  },
  {
   "cell_type": "code",
   "execution_count": 12,
   "metadata": {},
   "outputs": [
    {
     "name": "stdout",
     "output_type": "stream",
     "text": [
      "enter the filter size (must be odd): 3\n",
      "Enter the values of the filter: \n",
      "(0, 0) : 0\n",
      "(0, 1) : -1\n",
      "(0, 2) : 0\n",
      "(1, 0) : -1\n",
      "(1, 1) : 4\n",
      "(1, 2) : -1\n",
      "(2, 0) : 0\n",
      "(2, 1) : -1\n",
      "(2, 2) : 0\n"
     ]
    },
    {
     "data": {
      "image/png": "[encoded data removed]",
      "text/plain": [
       "<Figure size 432x288 with 1 Axes>"
      ]
     },
     "metadata": {
      "needs_background": "light"
     },
     "output_type": "display_data"
    }
   ],
   "source": [
    "filterAndDisplay(grayscale) ## 2nd order\n"
   ]
  },
  {
   "cell_type": "code",
   "execution_count": 13,
   "metadata": {},
   "outputs": [
    {
     "ename": "IndentationError",
     "evalue": "expected an indented block (<ipython-input-13-2f734b886ec6>, line 5)",
     "output_type": "error",
     "traceback": [
      "\u001b[0;36m  File \u001b[0;32m\"<ipython-input-13-2f734b886ec6>\"\u001b[0;36m, line \u001b[0;32m5\u001b[0m\n\u001b[0;31m    def getGaussian():\u001b[0m\n\u001b[0m      ^\u001b[0m\n\u001b[0;31mIndentationError\u001b[0m\u001b[0;31m:\u001b[0m expected an indented block\n"
     ]
    }
   ],
   "source": [
    "# create gaussian filter\n",
    "\n",
    "def gaussian(x, y, center):\n",
    "    ret_val = ( 1/(2*math.pi*()) )\n",
    "\n",
    "def getGaussian():\n",
    "    size = int(input('Enter the gaussian filter size: '))\n",
    "    sigma = float(input('Enter sigma : '))\n",
    "    \n",
    "    \n",
    "    \n",
    "    \n",
    "    \n",
    "    \n",
    "    \n",
    "    "
   ]
  },
  {
   "cell_type": "code",
   "execution_count": null,
   "metadata": {},
   "outputs": [],
   "source": []
  }
 ],
 "metadata": {
  "kernelspec": {
   "display_name": "Python 3",
   "language": "python",
   "name": "python3"
  },
  "language_info": {
   "codemirror_mode": {
    "name": "ipython",
    "version": 3
   },
   "file_extension": ".py",
   "mimetype": "text/x-python",
   "name": "python",
   "nbconvert_exporter": "python",
   "pygments_lexer": "ipython3",
   "version": "3.6.7"
  }
 },
 "nbformat": 4,
 "nbformat_minor": 2
}
