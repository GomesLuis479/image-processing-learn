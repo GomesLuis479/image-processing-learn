{
 "cells": [
  {
   "cell_type": "code",
   "execution_count": null,
   "metadata": {},
   "outputs": [],
   "source": [
    "# RGB to gray program\n",
    "\n",
    "import matplotlib.pyplot as plt\n",
    "import numpy as np\n",
    "import matplotlib.image as mpimg\n",
    "\n",
    "IMAGE_PATH = '../images/expt_1/rgb.png'\n",
    "\n",
    "# read the image\n",
    "image_original = mpimg.imread(IMAGE_PATH)\n",
    "image = image_original.copy() # else it is read only\n",
    "\n",
    "R = image[:,:, 0]\n",
    "G = image[:,:, 1]\n",
    "B = image[:,:, 2]\n",
    "grayscale = (R/3 + G/3 + B/3)"
   ]
  }
 ],
 "metadata": {
  "kernelspec": {
   "display_name": "Python 3",
   "language": "python",
   "name": "python3"
  },
  "language_info": {
   "codemirror_mode": {
    "name": "ipython",
    "version": 3
   },
   "file_extension": ".py",
   "mimetype": "text/x-python",
   "name": "python",
   "nbconvert_exporter": "python",
   "pygments_lexer": "ipython3",
   "version": "3.6.7"
  }
 },
 "nbformat": 4,
 "nbformat_minor": 2
}
