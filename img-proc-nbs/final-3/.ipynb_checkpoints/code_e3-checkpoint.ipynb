{
 "cells": [
  {
   "cell_type": "code",
   "execution_count": null,
   "metadata": {},
   "outputs": [],
   "source": [
    "import matplotlib.pyplot as plt\n",
    "import numpy as np\n",
    "import matplotlib.image as mpimg\n",
    "\n",
    "LOG_IMAGE_PATH = '../images/e3/log_image.tif'\n",
    "POWER_LAW_IMAGE1_PATH = '../images/e3/power_law_gamma_low.tif'\n",
    "POWER_LAW_IMAGE2_PATH = '../images/e3/power_law_gamma_high.tif'\n",
    "NEGATION_PATH = '../images/e3/negate.tif'\n",
    "\n",
    "def readImage(imagePath):\n",
    "    # read the image\n",
    "    image_original = mpimg.imread(imagePath)\n",
    "    image = image_original.copy() # else it is read only\n",
    "\n",
    "    if len(image.shape) == 3:\n",
    "        # is a color image\n",
    "        # converting to grayscale: avg method\n",
    "        R = image[:,:, 0]\n",
    "        G = image[:,:, 1]\n",
    "        B = image[:,:, 2]\n",
    "        grayscale = (R/3 + G/3 + B/3)\n",
    "    else:\n",
    "        # is a grayscale image\n",
    "        grayscale = np.array(image_original.copy())\n",
    "\n",
    "    plt.imshow(grayscale, cmap='gray')\n",
    "    plt.title('original gray image')\n",
    "    \n",
    "    return grayscale\n",
    "\n",
    "# log s = c * log(1+r)\n",
    "def logTransform(grayImage ,c):\n",
    "    log_image = c * np.log10(grayImage + 1.0000000000001) # needed to avoid log(1) = 0 error\n",
    "    plt.imshow(log_image, cmap='gray')\n",
    "    plt.title('log transform with c = ' + str(c))\n",
    "\n",
    "# power law s = c * r^(gamma)\n",
    "def powerLawTransform(grayImage, c, gamma):\n",
    "    power_image = c * np.power(grayImage, gamma)\n",
    "    plt.imshow(power_image, cmap='gray')\n",
    "    plt.title('log transform with c = '+ str(c) + ' & gamma = ' + str(gamma))\n",
    "    \n",
    "    \n",
    "def negateImage(grayImage):\n",
    "    # negate grayscale image\n",
    "    grayscale_neg = 255 - grayImage\n",
    "    plt.imshow(grayscale_neg, cmap=plt.get_cmap('gray'),vmin=0, vmax=255)\n",
    "    plt.title('Negative Image')"
   ]
  }
 ],
 "metadata": {
  "kernelspec": {
   "display_name": "Python 3",
   "language": "python",
   "name": "python3"
  },
  "language_info": {
   "codemirror_mode": {
    "name": "ipython",
    "version": 3
   },
   "file_extension": ".py",
   "mimetype": "text/x-python",
   "name": "python",
   "nbconvert_exporter": "python",
   "pygments_lexer": "ipython3",
   "version": "3.6.7"
  }
 },
 "nbformat": 4,
 "nbformat_minor": 2
}
